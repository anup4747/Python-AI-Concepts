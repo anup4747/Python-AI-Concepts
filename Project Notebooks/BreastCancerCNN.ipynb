{
 "cells": [
  {
   "cell_type": "code",
   "execution_count": 1,
   "id": "9dec989f-d436-4969-9b2c-d550e849081f",
   "metadata": {},
   "outputs": [],
   "source": [
    "import numpy as np\n",
    "import pandas as pd\n",
    "import matplotlib.pyplot as plt\n",
    "import seaborn as sns\n",
    "import tensorflow as tf\n",
    "from glob import glob \n",
    "import os\n",
    "from PIL import Image\n",
    "from tensorflow.keras.preprocessing.image import load_img, img_to_array\n",
    "from tensorflow.keras.utils import to_categorical\n",
    "from sklearn.model_selection import train_test_split\n",
    "import cv2\n",
    "from sklearn.preprocessing import LabelEncoder\n",
    "from tensorflow.keras.models import Sequential \n",
    "from tensorflow.keras.layers import Conv2D, MaxPooling2D, Flatten, Dense, Dropout"
   ]
  },
  {
   "cell_type": "code",
   "execution_count": 2,
   "id": "e8e2c10c-0789-4966-ab9f-bbf231691991",
   "metadata": {},
   "outputs": [],
   "source": [
    "cancer_positive = glob(\"breastcancer/Cancer/*.jpg\")\n",
    "cancer_negative = glob(\"breastcancer/Negative/*.jpg\")"
   ]
  },
  {
   "cell_type": "code",
   "execution_count": 3,
   "id": "1763eea7-149b-4ba2-8a43-5812965d8118",
   "metadata": {},
   "outputs": [
    {
     "name": "stdout",
     "output_type": "stream",
     "text": [
      "Number of cancer positive: 410\n",
      "Number of cancer negative: 410\n"
     ]
    }
   ],
   "source": [
    "print(f\"Number of cancer positive: {len(cancer_positive)}\")\n",
    "print(f\"Number of cancer negative: {len(cancer_negative)}\")"
   ]
  },
  {
   "cell_type": "code",
   "execution_count": 4,
   "id": "e29f13df-fa38-4282-8e92-24152748b49b",
   "metadata": {},
   "outputs": [],
   "source": [
    "IMG_SIZE = (224 ,224)\n",
    "\n",
    "def load_images(folder):\n",
    "    images = []\n",
    "    labels = []\n",
    "\n",
    "    for label in os.listdir(folder):\n",
    "        class_folder = os.path.join(folder,label)\n",
    "        if os.path.isdir(class_folder):\n",
    "            for file in os.listdir(class_folder):\n",
    "                img_path = os.path.join(class_folder, file)\n",
    "                img = cv2.imread(img_path)\n",
    "                img = cv2.resize(img, IMG_SIZE)\n",
    "                img = img / 255.0\n",
    "                images.append(img)\n",
    "                labels.append(label)\n",
    "    return np.array(images), np.array(labels)\n",
    "\n",
    "    \n",
    "            "
   ]
  },
  {
   "cell_type": "code",
   "execution_count": 5,
   "id": "d7f3d392-bc0e-434d-a819-ee5a478d7cf9",
   "metadata": {},
   "outputs": [],
   "source": [
    "X, y = load_images(\"breastcancer\")"
   ]
  },
  {
   "cell_type": "code",
   "execution_count": 6,
   "id": "e46f1639-dfca-4583-89a7-0cb4938af17e",
   "metadata": {},
   "outputs": [],
   "source": [
    "X_train, X_test, y_train, y_test = train_test_split(X,y,test_size = 0.2 , random_state = 42)"
   ]
  },
  {
   "cell_type": "code",
   "execution_count": 7,
   "id": "4af9ac5d-bf85-47c3-b726-be516392e988",
   "metadata": {},
   "outputs": [],
   "source": [
    "y_train = [1 if label == \"Cancer\" else 0 for label in y_train]\n",
    "y_test = [1 if label == \"Cancer\" else 0 for label in y_test]\n",
    "\n",
    "y_train = np.array(y_train)\n",
    "y_test = np.array(y_test)\n",
    "\n",
    "from tensorflow.keras.utils import to_categorical\n",
    "y_train = to_categorical(y_train, num_classes=2)\n",
    "y_test = to_categorical(y_test, num_classes=2)\n",
    "\n",
    "\n"
   ]
  },
  {
   "cell_type": "code",
   "execution_count": 8,
   "id": "e09185a5-b09d-4754-ada9-27c31e763ee8",
   "metadata": {},
   "outputs": [
    {
     "name": "stdout",
     "output_type": "stream",
     "text": [
      "Class mapping: {'Cancer': 0, 'Negative': 1}\n"
     ]
    }
   ],
   "source": [
    "from sklearn.preprocessing import LabelEncoder\n",
    "\n",
    "# Define the order explicitly\n",
    "label_encoder = LabelEncoder()\n",
    "label_encoder.fit([\"Negative\", \"Cancer\"])  # \"Negative\" → 0, \"Cancer\" → 1\n",
    "\n",
    "# Transform labels\n",
    "y = label_encoder.transform(y)\n",
    "\n",
    "# Check the new mapping\n",
    "print(\"Class mapping:\", dict(zip(label_encoder.classes_, range(len(label_encoder.classes_)))))\n"
   ]
  },
  {
   "cell_type": "code",
   "execution_count": 9,
   "id": "3e68a547-314c-45e7-b91a-f7a65e0e557f",
   "metadata": {
    "scrolled": true
   },
   "outputs": [
    {
     "name": "stdout",
     "output_type": "stream",
     "text": [
      "Model: \"sequential\"\n",
      "_________________________________________________________________\n",
      " Layer (type)                Output Shape              Param #   \n",
      "=================================================================\n",
      " conv2d (Conv2D)             (None, 222, 222, 32)      896       \n",
      "                                                                 \n",
      " max_pooling2d (MaxPooling2D  (None, 111, 111, 32)     0         \n",
      " )                                                               \n",
      "                                                                 \n",
      " conv2d_1 (Conv2D)           (None, 109, 109, 64)      18496     \n",
      "                                                                 \n",
      " max_pooling2d_1 (MaxPooling  (None, 54, 54, 64)       0         \n",
      " 2D)                                                             \n",
      "                                                                 \n",
      " conv2d_2 (Conv2D)           (None, 52, 52, 128)       73856     \n",
      "                                                                 \n",
      " max_pooling2d_2 (MaxPooling  (None, 26, 26, 128)      0         \n",
      " 2D)                                                             \n",
      "                                                                 \n",
      " flatten (Flatten)           (None, 86528)             0         \n",
      "                                                                 \n",
      " dense (Dense)               (None, 128)               11075712  \n",
      "                                                                 \n",
      " dropout (Dropout)           (None, 128)               0         \n",
      "                                                                 \n",
      " dense_1 (Dense)             (None, 2)                 258       \n",
      "                                                                 \n",
      "=================================================================\n",
      "Total params: 11,169,218\n",
      "Trainable params: 11,169,218\n",
      "Non-trainable params: 0\n",
      "_________________________________________________________________\n"
     ]
    }
   ],
   "source": [
    "\n",
    "\n",
    "# Define CNN model\n",
    "model = Sequential([\n",
    "    Conv2D(32, (3,3), activation='relu', input_shape=(224, 224, 3)),\n",
    "    MaxPooling2D(pool_size=(2,2)),\n",
    "\n",
    "    Conv2D(64, (3,3), activation='relu'),\n",
    "    MaxPooling2D(pool_size=(2,2)),\n",
    "\n",
    "    Conv2D(128, (3,3), activation='relu'),\n",
    "    MaxPooling2D(pool_size=(2,2)),\n",
    "\n",
    "    Flatten(),\n",
    "    Dense(128, activation='relu'),\n",
    "    Dropout(0.5),  # Helps prevent overfitting\n",
    "    Dense(2, activation='softmax')  # Output layer (2 classes: Cancer & Negative)\n",
    "])\n",
    "\n",
    "# Compile the model\n",
    "model.compile(optimizer='adam', loss='categorical_crossentropy', metrics=['accuracy'])\n",
    "\n",
    "# Show model summary\n",
    "model.summary()\n"
   ]
  },
  {
   "cell_type": "code",
   "execution_count": 10,
   "id": "f6d86435-ced0-4766-9ff7-a8880f42c8a0",
   "metadata": {},
   "outputs": [
    {
     "name": "stdout",
     "output_type": "stream",
     "text": [
      "Epoch 1/10\n",
      "21/21 [==============================] - 25s 1s/step - loss: 0.7039 - accuracy: 0.6860 - val_loss: 0.3898 - val_accuracy: 0.8537\n",
      "Epoch 2/10\n",
      "21/21 [==============================] - 21s 998ms/step - loss: 0.3607 - accuracy: 0.8841 - val_loss: 0.3436 - val_accuracy: 0.8659\n",
      "Epoch 3/10\n",
      "21/21 [==============================] - 28s 1s/step - loss: 0.2605 - accuracy: 0.8887 - val_loss: 0.2929 - val_accuracy: 0.9085\n",
      "Epoch 4/10\n",
      "21/21 [==============================] - 22s 1s/step - loss: 0.2220 - accuracy: 0.9253 - val_loss: 0.2337 - val_accuracy: 0.8963\n",
      "Epoch 5/10\n",
      "21/21 [==============================] - 21s 1s/step - loss: 0.1646 - accuracy: 0.9345 - val_loss: 0.2353 - val_accuracy: 0.9085\n",
      "Epoch 6/10\n",
      "21/21 [==============================] - 21s 986ms/step - loss: 0.1593 - accuracy: 0.9421 - val_loss: 0.1911 - val_accuracy: 0.9390\n",
      "Epoch 7/10\n",
      "21/21 [==============================] - 21s 1s/step - loss: 0.0983 - accuracy: 0.9680 - val_loss: 0.1378 - val_accuracy: 0.9512\n",
      "Epoch 8/10\n",
      "21/21 [==============================] - 21s 1s/step - loss: 0.0721 - accuracy: 0.9741 - val_loss: 0.1555 - val_accuracy: 0.9390\n",
      "Epoch 9/10\n",
      "21/21 [==============================] - 22s 1s/step - loss: 0.0726 - accuracy: 0.9680 - val_loss: 0.1425 - val_accuracy: 0.9390\n",
      "Epoch 10/10\n",
      "21/21 [==============================] - 23s 1s/step - loss: 0.0502 - accuracy: 0.9863 - val_loss: 0.2298 - val_accuracy: 0.9268\n"
     ]
    }
   ],
   "source": [
    "history = model.fit(\n",
    "    X_train, y_train,\n",
    "    epochs=10,\n",
    "    batch_size=32,\n",
    "    validation_data=(X_test, y_test)\n",
    ")"
   ]
  },
  {
   "cell_type": "code",
   "execution_count": 15,
   "id": "0a5e8981-4439-4406-93b1-32adb73603e2",
   "metadata": {},
   "outputs": [
    {
     "name": "stdout",
     "output_type": "stream",
     "text": [
      "6/6 [==============================] - 2s 269ms/step - loss: 0.2298 - accuracy: 0.9268\n",
      "Test Accuracy: 92.68%\n"
     ]
    }
   ],
   "source": [
    "loss, accuracy = model.evaluate(X_test, y_test)\n",
    "print(f\"Test Accuracy: {accuracy * 100:.2f}%\")"
   ]
  },
  {
   "cell_type": "code",
   "execution_count": 27,
   "id": "67be8fbb-08ca-4c0e-9917-ef0ddc6ca576",
   "metadata": {},
   "outputs": [
    {
     "name": "stdout",
     "output_type": "stream",
     "text": [
      "1/1 [==============================] - 0s 49ms/step\n",
      "Prediction: Negative\n"
     ]
    }
   ],
   "source": [
    "def predict_image(image_path):\n",
    "    img = cv2.imread(image_path)\n",
    "    if img is None:\n",
    "        print(f\"Error: Image at {image_path} not found or cannot be loaded.\")\n",
    "        return\n",
    "    img = cv2.resize(img, (224, 224))\n",
    "    img = img / 255.0\n",
    "    img = np.expand_dims(img, axis=0)  # Reshape for model input\n",
    "\n",
    "    prediction = model.predict(img)\n",
    "    class_label = \"Cancer\" if np.argmax(prediction) == 1 else \"Negative\"\n",
    "\n",
    "    print(f\"Prediction: {class_label}\")\n",
    "\n",
    "# Test with an image\n",
    "predict_image(\"breastcancer/Negative/9.jpg\")  # Replace with your test image path\n"
   ]
  },
  {
   "cell_type": "code",
   "execution_count": 30,
   "id": "a4f77490-991b-4f23-84d8-6fe97ee1a816",
   "metadata": {},
   "outputs": [
    {
     "name": "stdout",
     "output_type": "stream",
     "text": [
      "Epoch 1/20\n",
      "21/21 [==============================] - 26s 1s/step - loss: 0.0404 - accuracy: 0.9924 - val_loss: 0.1792 - val_accuracy: 0.9573\n",
      "Epoch 2/20\n",
      "21/21 [==============================] - 25s 1s/step - loss: 0.0628 - accuracy: 0.9726 - val_loss: 0.1811 - val_accuracy: 0.9451\n",
      "Epoch 3/20\n",
      "21/21 [==============================] - 25s 1s/step - loss: 0.0573 - accuracy: 0.9817 - val_loss: 0.3352 - val_accuracy: 0.9085\n",
      "Epoch 4/20\n",
      "21/21 [==============================] - 24s 1s/step - loss: 0.0394 - accuracy: 0.9848 - val_loss: 0.1938 - val_accuracy: 0.9512\n"
     ]
    }
   ],
   "source": [
    "from tensorflow.keras.callbacks import EarlyStopping\n",
    "early_stopping = EarlyStopping(monitor='val_loss', patience=3, restore_best_weights=True)\n",
    "history = model.fit(X_train, y_train, epochs=20, batch_size=32, validation_data=(X_test, y_test), callbacks=[early_stopping])\n"
   ]
  },
  {
   "cell_type": "code",
   "execution_count": 29,
   "id": "25d53bb9-0811-4f3c-af2e-49876fc5ced6",
   "metadata": {},
   "outputs": [
    {
     "data": {
      "image/png": "[encoded data removed]",
      "text/plain": [
       "<Figure size 640x480 with 1 Axes>"
      ]
     },
     "metadata": {},
     "output_type": "display_data"
    }
   ],
   "source": [
    "import matplotlib.pyplot as plt\n",
    "plt.plot(history.history['accuracy'], label='Train Accuracy')\n",
    "plt.plot(history.history['val_accuracy'], label='Test Accuracy')\n",
    "plt.legend()\n",
    "plt.show()\n"
   ]
  }
 ],
 "metadata": {
  "kernelspec": {
   "display_name": "Python 3 (ipykernel)",
   "language": "python",
   "name": "python3"
  },
  "language_info": {
   "codemirror_mode": {
    "name": "ipython",
    "version": 3
   },
   "file_extension": ".py",
   "mimetype": "text/x-python",
   "name": "python",
   "nbconvert_exporter": "python",
   "pygments_lexer": "ipython3",
   "version": "3.10.13"
  }
 },
 "nbformat": 4,
 "nbformat_minor": 5
}
