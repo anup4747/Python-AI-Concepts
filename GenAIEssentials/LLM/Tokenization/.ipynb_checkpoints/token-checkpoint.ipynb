{
 "cells": [
  {
   "cell_type": "code",
   "execution_count": 69,
   "id": "c9c60a77-8620-4392-b633-b5c1e3316de6",
   "metadata": {},
   "outputs": [
    {
     "name": "stdout",
     "output_type": "stream",
     "text": [
      "Defaulting to user installation because normal site-packages is not writeable\n",
      "Requirement already satisfied: datasets in /home/anup/.local/lib/python3.10/site-packages (4.0.0)\n",
      "Requirement already satisfied: nltk in /home/anup/.local/lib/python3.10/site-packages (3.9.1)\n",
      "Requirement already satisfied: filelock in /home/anup/.local/lib/python3.10/site-packages (from datasets) (3.18.0)\n",
      "Requirement already satisfied: numpy>=1.17 in /home/anup/.local/lib/python3.10/site-packages (from datasets) (1.24.4)\n",
      "Requirement already satisfied: pyarrow>=15.0.0 in /home/anup/.local/lib/python3.10/site-packages (from datasets) (21.0.0)\n",
      "Requirement already satisfied: dill<0.3.9,>=0.3.0 in /home/anup/.local/lib/python3.10/site-packages (from datasets) (0.3.8)\n",
      "Requirement already satisfied: pandas in /home/anup/.local/lib/python3.10/site-packages (from datasets) (2.2.3)\n",
      "Requirement already satisfied: requests>=2.32.2 in /home/anup/.local/lib/python3.10/site-packages (from datasets) (2.32.3)\n",
      "Requirement already satisfied: tqdm>=4.66.3 in /home/anup/.local/lib/python3.10/site-packages (from datasets) (4.67.1)\n",
      "Requirement already satisfied: xxhash in /home/anup/.local/lib/python3.10/site-packages (from datasets) (3.5.0)\n",
      "Requirement already satisfied: multiprocess<0.70.17 in /home/anup/.local/lib/python3.10/site-packages (from datasets) (0.70.16)\n",
      "Requirement already satisfied: fsspec<=2025.3.0,>=2023.1.0 in /home/anup/.local/lib/python3.10/site-packages (from fsspec[http]<=2025.3.0,>=2023.1.0->datasets) (2025.3.0)\n",
      "Requirement already satisfied: huggingface-hub>=0.24.0 in /home/anup/.local/lib/python3.10/site-packages (from datasets) (0.34.3)\n",
      "Requirement already satisfied: packaging in /home/anup/.local/lib/python3.10/site-packages (from datasets) (25.0)\n",
      "Requirement already satisfied: pyyaml>=5.1 in /usr/lib/python3/dist-packages (from datasets) (5.4.1)\n",
      "Requirement already satisfied: aiohttp!=4.0.0a0,!=4.0.0a1 in /home/anup/.local/lib/python3.10/site-packages (from fsspec[http]<=2025.3.0,>=2023.1.0->datasets) (3.12.15)\n",
      "Requirement already satisfied: click in /home/anup/.local/lib/python3.10/site-packages (from nltk) (8.2.1)\n",
      "Requirement already satisfied: joblib in /home/anup/.local/lib/python3.10/site-packages (from nltk) (1.5.1)\n",
      "Requirement already satisfied: regex>=2021.8.3 in /home/anup/.local/lib/python3.10/site-packages (from nltk) (2025.7.34)\n",
      "Requirement already satisfied: aiohappyeyeballs>=2.5.0 in /home/anup/.local/lib/python3.10/site-packages (from aiohttp!=4.0.0a0,!=4.0.0a1->fsspec[http]<=2025.3.0,>=2023.1.0->datasets) (2.6.1)\n",
      "Requirement already satisfied: aiosignal>=1.4.0 in /home/anup/.local/lib/python3.10/site-packages (from aiohttp!=4.0.0a0,!=4.0.0a1->fsspec[http]<=2025.3.0,>=2023.1.0->datasets) (1.4.0)\n",
      "Requirement already satisfied: async-timeout<6.0,>=4.0 in /home/anup/.local/lib/python3.10/site-packages (from aiohttp!=4.0.0a0,!=4.0.0a1->fsspec[http]<=2025.3.0,>=2023.1.0->datasets) (5.0.1)\n",
      "Requirement already satisfied: attrs>=17.3.0 in /home/anup/.local/lib/python3.10/site-packages (from aiohttp!=4.0.0a0,!=4.0.0a1->fsspec[http]<=2025.3.0,>=2023.1.0->datasets) (25.3.0)\n",
      "Requirement already satisfied: frozenlist>=1.1.1 in /home/anup/.local/lib/python3.10/site-packages (from aiohttp!=4.0.0a0,!=4.0.0a1->fsspec[http]<=2025.3.0,>=2023.1.0->datasets) (1.7.0)\n",
      "Requirement already satisfied: multidict<7.0,>=4.5 in /home/anup/.local/lib/python3.10/site-packages (from aiohttp!=4.0.0a0,!=4.0.0a1->fsspec[http]<=2025.3.0,>=2023.1.0->datasets) (6.6.4)\n",
      "Requirement already satisfied: propcache>=0.2.0 in /home/anup/.local/lib/python3.10/site-packages (from aiohttp!=4.0.0a0,!=4.0.0a1->fsspec[http]<=2025.3.0,>=2023.1.0->datasets) (0.3.2)\n",
      "Requirement already satisfied: yarl<2.0,>=1.17.0 in /home/anup/.local/lib/python3.10/site-packages (from aiohttp!=4.0.0a0,!=4.0.0a1->fsspec[http]<=2025.3.0,>=2023.1.0->datasets) (1.20.1)\n",
      "Requirement already satisfied: typing-extensions>=4.1.0 in /home/anup/.local/lib/python3.10/site-packages (from multidict<7.0,>=4.5->aiohttp!=4.0.0a0,!=4.0.0a1->fsspec[http]<=2025.3.0,>=2023.1.0->datasets) (4.13.2)\n",
      "Requirement already satisfied: idna>=2.0 in /usr/lib/python3/dist-packages (from yarl<2.0,>=1.17.0->aiohttp!=4.0.0a0,!=4.0.0a1->fsspec[http]<=2025.3.0,>=2023.1.0->datasets) (3.3)\n",
      "Requirement already satisfied: hf-xet<2.0.0,>=1.1.3 in /home/anup/.local/lib/python3.10/site-packages (from huggingface-hub>=0.24.0->datasets) (1.1.5)\n",
      "Requirement already satisfied: charset-normalizer<4,>=2 in /home/anup/.local/lib/python3.10/site-packages (from requests>=2.32.2->datasets) (3.4.2)\n",
      "Requirement already satisfied: urllib3<3,>=1.21.1 in /usr/lib/python3/dist-packages (from requests>=2.32.2->datasets) (1.26.5)\n",
      "Requirement already satisfied: certifi>=2017.4.17 in /usr/lib/python3/dist-packages (from requests>=2.32.2->datasets) (2020.6.20)\n",
      "Requirement already satisfied: python-dateutil>=2.8.2 in /home/anup/.local/lib/python3.10/site-packages (from pandas->datasets) (2.9.0.post0)\n",
      "Requirement already satisfied: pytz>=2020.1 in /usr/lib/python3/dist-packages (from pandas->datasets) (2022.1)\n",
      "Requirement already satisfied: tzdata>=2022.7 in /home/anup/.local/lib/python3.10/site-packages (from pandas->datasets) (2025.2)\n",
      "Requirement already satisfied: six>=1.5 in /usr/lib/python3/dist-packages (from python-dateutil>=2.8.2->pandas->datasets) (1.16.0)\n",
      "\n",
      "\u001b[1m[\u001b[0m\u001b[34;49mnotice\u001b[0m\u001b[1;39;49m]\u001b[0m\u001b[39;49m A new release of pip is available: \u001b[0m\u001b[31;49m25.1.1\u001b[0m\u001b[39;49m -> \u001b[0m\u001b[32;49m25.2\u001b[0m\n",
      "\u001b[1m[\u001b[0m\u001b[34;49mnotice\u001b[0m\u001b[1;39;49m]\u001b[0m\u001b[39;49m To update, run: \u001b[0m\u001b[32;49mpython3 -m pip install --upgrade pip\u001b[0m\n",
      "Note: you may need to restart the kernel to use updated packages.\n"
     ]
    }
   ],
   "source": [
    "pip install datasets nltk"
   ]
  },
  {
   "cell_type": "code",
   "execution_count": 1,
   "id": "737ce0eb-b47a-496e-9d49-522c95825e1d",
   "metadata": {},
   "outputs": [
    {
     "name": "stdout",
     "output_type": "stream",
     "text": [
      "DatasetDict({\n",
      "    train: Dataset({\n",
      "        features: ['personality', 'utterances'],\n",
      "        num_rows: 17878\n",
      "    })\n",
      "    validation: Dataset({\n",
      "        features: ['personality', 'utterances'],\n",
      "        num_rows: 1000\n",
      "    })\n",
      "})\n",
      "List(Value('string'))\n"
     ]
    }
   ],
   "source": [
    "from datasets import load_dataset\n",
    "\n",
    "ds = load_dataset(\"AlekseyKorshuk/persona-chat\")\n",
    "print(ds)\n",
    "print(ds[\"train\"].features['personality'])\n"
   ]
  },
  {
   "cell_type": "code",
   "execution_count": 2,
   "id": "5d27fc9f-172f-44f4-83a7-52decd770b2e",
   "metadata": {},
   "outputs": [],
   "source": [
    "def extract_all_histories(dataset_split):\n",
    "    all_histories = []\n",
    "    for example in dataset_split:\n",
    "        for utter in example[\"utterances\"]:\n",
    "            all_histories.extend(utter[\"history\"])\n",
    "    return all_histories"
   ]
  },
  {
   "cell_type": "code",
   "execution_count": 3,
   "id": "73a87645-f908-41d2-9076-5b86d2fab85d",
   "metadata": {},
   "outputs": [],
   "source": [
    "train_histories = extract_all_histories(ds[\"train\"])\n"
   ]
  },
  {
   "cell_type": "code",
   "execution_count": null,
   "id": "b808ceb8-1ffb-4321-a52c-8f90937be86b",
   "metadata": {},
   "outputs": [],
   "source": []
  },
  {
   "cell_type": "code",
   "execution_count": 4,
   "id": "aeda04b2-0163-4559-82c8-dc94f88bcdfe",
   "metadata": {},
   "outputs": [
    {
     "name": "stderr",
     "output_type": "stream",
     "text": [
      "[nltk_data] Downloading package punkt to /home/anup/nltk_data...\n",
      "[nltk_data]   Package punkt is already up-to-date!\n",
      "[nltk_data] Downloading package punkt_tab to /home/anup/nltk_data...\n",
      "[nltk_data]   Package punkt_tab is already up-to-date!\n",
      "[nltk_data] Downloading package stopwords to /home/anup/nltk_data...\n",
      "[nltk_data]   Package stopwords is already up-to-date!\n",
      "[nltk_data] Downloading package wordnet to /home/anup/nltk_data...\n",
      "[nltk_data]   Package wordnet is already up-to-date!\n",
      "[nltk_data] Downloading package averaged_perceptron_tagger_eng to\n",
      "[nltk_data]     /home/anup/nltk_data...\n",
      "[nltk_data]   Package averaged_perceptron_tagger_eng is already up-to-\n",
      "[nltk_data]       date!\n"
     ]
    }
   ],
   "source": [
    "# example of nltk\n",
    "\n",
    "import nltk\n",
    "nltk.download('punkt')  # Run this once\n",
    "nltk.download('punkt_tab')\n",
    "nltk.download('stopwords')\n",
    "nltk.download('wordnet')\n",
    "nltk.download('averaged_perceptron_tagger_eng')\n",
    "\n",
    "from nltk.tokenize import word_tokenize, sent_tokenize\n",
    "from nltk.corpus import stopwords\n",
    "from nltk.stem import *\n",
    "\n"
   ]
  },
  {
   "cell_type": "code",
   "execution_count": 5,
   "id": "c579ce58-b13b-4ebd-8b43-6abe756e188c",
   "metadata": {},
   "outputs": [
    {
     "name": "stdout",
     "output_type": "stream",
     "text": [
      "['Natural language processing is fun.', 'NLTK makes it easier!']\n",
      "['Natural', 'language', 'processing', 'is', 'fun', '.', 'NLTK', 'makes', 'it', 'easier', '!']\n"
     ]
    }
   ],
   "source": [
    "text = \"Natural language processing is fun. NLTK makes it easier!\"\n",
    "sentences = sent_tokenize(text)\n",
    "words = word_tokenize(text)\n",
    "print(sentences)\n",
    "print(words)\n"
   ]
  },
  {
   "cell_type": "code",
   "execution_count": 6,
   "id": "4161221c-a6f9-40c8-bdd7-ef149777d8bc",
   "metadata": {},
   "outputs": [],
   "source": [
    "tokenized_sentence  = [sent_tokenize(sentence) for sentence in train_histories]"
   ]
  },
  {
   "cell_type": "code",
   "execution_count": 7,
   "id": "f70ddab5-6601-42eb-8c14-a0b4d4bcd6bd",
   "metadata": {},
   "outputs": [],
   "source": [
    "tokenized_words  = [word_tokenize(word) for word in train_histories]"
   ]
  },
  {
   "cell_type": "code",
   "execution_count": 9,
   "id": "dc742933-3dd1-4e55-bff8-046105b99a11",
   "metadata": {},
   "outputs": [
    {
     "name": "stdout",
     "output_type": "stream",
     "text": [
      "Sample 1: ['hi , how are you doing ?', \"i'm getting ready to do some cheetah chasing to stay in shape .\"]\n",
      "Sample 2: ['hi , how are you doing ?', \"i'm getting ready to do some cheetah chasing to stay in shape .\"]\n",
      "Sample 3: ['you must be very fast .', 'hunting is one of my favorite hobbies .']\n",
      "Sample 4: ['i am !', 'for my hobby i like to do canning or some whittling .']\n",
      "Sample 5: ['hi , how are you doing ?', \"i'm getting ready to do some cheetah chasing to stay in shape .\"]\n"
     ]
    }
   ],
   "source": [
    "for i, item in enumerate(tokenized_sentence[:5]):\n",
    "    print(f\"Sample {i+1}:\", item)"
   ]
  },
  {
   "cell_type": "code",
   "execution_count": 10,
   "id": "1e20634f-2c5e-4429-921c-b0ab4777520a",
   "metadata": {},
   "outputs": [
    {
     "name": "stdout",
     "output_type": "stream",
     "text": [
      "Sample 1: ['hi', ',', 'how', 'are', 'you', 'doing', '?', 'i', \"'m\", 'getting', 'ready', 'to', 'do', 'some', 'cheetah', 'chasing', 'to', 'stay', 'in', 'shape', '.']\n",
      "Sample 2: ['hi', ',', 'how', 'are', 'you', 'doing', '?', 'i', \"'m\", 'getting', 'ready', 'to', 'do', 'some', 'cheetah', 'chasing', 'to', 'stay', 'in', 'shape', '.']\n",
      "Sample 3: ['you', 'must', 'be', 'very', 'fast', '.', 'hunting', 'is', 'one', 'of', 'my', 'favorite', 'hobbies', '.']\n",
      "Sample 4: ['i', 'am', '!', 'for', 'my', 'hobby', 'i', 'like', 'to', 'do', 'canning', 'or', 'some', 'whittling', '.']\n",
      "Sample 5: ['hi', ',', 'how', 'are', 'you', 'doing', '?', 'i', \"'m\", 'getting', 'ready', 'to', 'do', 'some', 'cheetah', 'chasing', 'to', 'stay', 'in', 'shape', '.']\n"
     ]
    }
   ],
   "source": [
    "for i, item in enumerate(tokenized_words[:5]):\n",
    "    print(f\"Sample {i+1}:\", item)"
   ]
  },
  {
   "cell_type": "code",
   "execution_count": 12,
   "id": "66e2d56f-fd1b-4591-a2cb-24357d7a02f4",
   "metadata": {},
   "outputs": [],
   "source": [
    "# some formating \n",
    "import string \n",
    "\n",
    "tokenized_words_lower = [[w.lower() for w in sentence] for sentence in tokenized_words]"
   ]
  },
  {
   "cell_type": "code",
   "execution_count": null,
   "id": "fd38a4ca-afb9-4958-96e1-14db878b2ac7",
   "metadata": {},
   "outputs": [],
   "source": [
    "# # For stemming:\n",
    "# stemmer = PorterStemmer()\n",
    "# words_stemmed = [stemmer.stem(w) for w in words]\n",
    "\n",
    "# # For lemmatization:\n",
    "# lemmatizer = WordNetLemmatizer()\n",
    "# words_lemma = [lemmatizer.lemmatize(w) for w in words]\n",
    "\n",
    "# or or or or or or or or \n",
    "\n",
    "# For stemming:\n",
    "stemmer = PorterStemmer()\n",
    "tokenized_words_lower_stemmer = [[stemmer.stem(w)  for w in sentence] for sentence in tokenized_words]\n",
    "\n",
    "# For lemmatization:\n",
    "lemmatizer = WordNetLemmatizer()\n",
    "tokenized_words_lower_lemmatizer = [[lemmatizer.lemmatize(w) for w in words2] for sentence in tokenized_words]\n"
   ]
  },
  {
   "cell_type": "code",
   "execution_count": null,
   "id": "ad94c0dc-5ca4-4040-a0de-1f2fc2778875",
   "metadata": {},
   "outputs": [],
   "source": [
    "for i, item in enumerate(tokenized_words_lower_stemmer[:5]):\n",
    "    print(f\"Sample {i+1}:\", item)\n",
    "for i, item in enumerate(tokenized_words_lower_lemmatizer[:5]):\n",
    "    print(f\"Sample {i+1}:\", item)"
   ]
  },
  {
   "cell_type": "code",
   "execution_count": 75,
   "id": "747272a5-308f-4413-bd6f-313732c51465",
   "metadata": {},
   "outputs": [
    {
     "name": "stdout",
     "output_type": "stream",
     "text": [
      "pos_tags :  ['natur', 'languag', 'process', 'fun', 'nltk', 'make', 'easier']\n"
     ]
    }
   ],
   "source": [
    "pos_tags = nltk.pos_tag(words2)\n",
    "print(\"pos_tags : \",words2 )"
   ]
  },
  {
   "cell_type": "code",
   "execution_count": null,
   "id": "3e8adb2f-ba4e-4118-a319-8ebcca84ff91",
   "metadata": {},
   "outputs": [],
   "source": []
  }
 ],
 "metadata": {
  "kernelspec": {
   "display_name": "Python 3 (ipykernel)",
   "language": "python",
   "name": "python3"
  },
  "language_info": {
   "codemirror_mode": {
    "name": "ipython",
    "version": 3
   },
   "file_extension": ".py",
   "mimetype": "text/x-python",
   "name": "python",
   "nbconvert_exporter": "python",
   "pygments_lexer": "ipython3",
   "version": "3.10.12"
  }
 },
 "nbformat": 4,
 "nbformat_minor": 5
}
