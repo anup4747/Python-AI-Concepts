{
 "cells": [
  {
   "cell_type": "code",
   "execution_count": 2,
   "id": "5e3013c4-784a-4b5b-8595-208ae6209a15",
   "metadata": {},
   "outputs": [
    {
     "name": "stdout",
     "output_type": "stream",
     "text": [
      "Defaulting to user installation because normal site-packages is not writeable\n",
      "Requirement already satisfied: datasets in /home/anup/.local/lib/python3.10/site-packages (4.0.0)\n",
      "Requirement already satisfied: nltk in /home/anup/.local/lib/python3.10/site-packages (3.9.1)\n",
      "Requirement already satisfied: gensim in /home/anup/.local/lib/python3.10/site-packages (4.3.3)\n",
      "Requirement already satisfied: filelock in /home/anup/.local/lib/python3.10/site-packages (from datasets) (3.18.0)\n",
      "Requirement already satisfied: numpy>=1.17 in /home/anup/.local/lib/python3.10/site-packages (from datasets) (1.24.4)\n",
      "Requirement already satisfied: pyarrow>=15.0.0 in /home/anup/.local/lib/python3.10/site-packages (from datasets) (21.0.0)\n",
      "Requirement already satisfied: dill<0.3.9,>=0.3.0 in /home/anup/.local/lib/python3.10/site-packages (from datasets) (0.3.8)\n",
      "Requirement already satisfied: pandas in /home/anup/.local/lib/python3.10/site-packages (from datasets) (2.2.3)\n",
      "Requirement already satisfied: requests>=2.32.2 in /home/anup/.local/lib/python3.10/site-packages (from datasets) (2.32.3)\n",
      "Requirement already satisfied: tqdm>=4.66.3 in /home/anup/.local/lib/python3.10/site-packages (from datasets) (4.67.1)\n",
      "Requirement already satisfied: xxhash in /home/anup/.local/lib/python3.10/site-packages (from datasets) (3.5.0)\n",
      "Requirement already satisfied: multiprocess<0.70.17 in /home/anup/.local/lib/python3.10/site-packages (from datasets) (0.70.16)\n",
      "Requirement already satisfied: fsspec<=2025.3.0,>=2023.1.0 in /home/anup/.local/lib/python3.10/site-packages (from fsspec[http]<=2025.3.0,>=2023.1.0->datasets) (2025.3.0)\n",
      "Requirement already satisfied: huggingface-hub>=0.24.0 in /home/anup/.local/lib/python3.10/site-packages (from datasets) (0.34.3)\n",
      "Requirement already satisfied: packaging in /home/anup/.local/lib/python3.10/site-packages (from datasets) (25.0)\n",
      "Requirement already satisfied: pyyaml>=5.1 in /usr/lib/python3/dist-packages (from datasets) (5.4.1)\n",
      "Requirement already satisfied: aiohttp!=4.0.0a0,!=4.0.0a1 in /home/anup/.local/lib/python3.10/site-packages (from fsspec[http]<=2025.3.0,>=2023.1.0->datasets) (3.12.15)\n",
      "Requirement already satisfied: click in /home/anup/.local/lib/python3.10/site-packages (from nltk) (8.2.1)\n",
      "Requirement already satisfied: joblib in /home/anup/.local/lib/python3.10/site-packages (from nltk) (1.5.1)\n",
      "Requirement already satisfied: regex>=2021.8.3 in /home/anup/.local/lib/python3.10/site-packages (from nltk) (2025.7.34)\n",
      "Requirement already satisfied: scipy<1.14.0,>=1.7.0 in /home/anup/.local/lib/python3.10/site-packages (from gensim) (1.13.1)\n",
      "Requirement already satisfied: smart-open>=1.8.1 in /home/anup/.local/lib/python3.10/site-packages (from gensim) (7.3.0.post1)\n",
      "Requirement already satisfied: aiohappyeyeballs>=2.5.0 in /home/anup/.local/lib/python3.10/site-packages (from aiohttp!=4.0.0a0,!=4.0.0a1->fsspec[http]<=2025.3.0,>=2023.1.0->datasets) (2.6.1)\n",
      "Requirement already satisfied: aiosignal>=1.4.0 in /home/anup/.local/lib/python3.10/site-packages (from aiohttp!=4.0.0a0,!=4.0.0a1->fsspec[http]<=2025.3.0,>=2023.1.0->datasets) (1.4.0)\n",
      "Requirement already satisfied: async-timeout<6.0,>=4.0 in /home/anup/.local/lib/python3.10/site-packages (from aiohttp!=4.0.0a0,!=4.0.0a1->fsspec[http]<=2025.3.0,>=2023.1.0->datasets) (5.0.1)\n",
      "Requirement already satisfied: attrs>=17.3.0 in /home/anup/.local/lib/python3.10/site-packages (from aiohttp!=4.0.0a0,!=4.0.0a1->fsspec[http]<=2025.3.0,>=2023.1.0->datasets) (25.3.0)\n",
      "Requirement already satisfied: frozenlist>=1.1.1 in /home/anup/.local/lib/python3.10/site-packages (from aiohttp!=4.0.0a0,!=4.0.0a1->fsspec[http]<=2025.3.0,>=2023.1.0->datasets) (1.7.0)\n",
      "Requirement already satisfied: multidict<7.0,>=4.5 in /home/anup/.local/lib/python3.10/site-packages (from aiohttp!=4.0.0a0,!=4.0.0a1->fsspec[http]<=2025.3.0,>=2023.1.0->datasets) (6.6.4)\n",
      "Requirement already satisfied: propcache>=0.2.0 in /home/anup/.local/lib/python3.10/site-packages (from aiohttp!=4.0.0a0,!=4.0.0a1->fsspec[http]<=2025.3.0,>=2023.1.0->datasets) (0.3.2)\n",
      "Requirement already satisfied: yarl<2.0,>=1.17.0 in /home/anup/.local/lib/python3.10/site-packages (from aiohttp!=4.0.0a0,!=4.0.0a1->fsspec[http]<=2025.3.0,>=2023.1.0->datasets) (1.20.1)\n",
      "Requirement already satisfied: typing-extensions>=4.1.0 in /home/anup/.local/lib/python3.10/site-packages (from multidict<7.0,>=4.5->aiohttp!=4.0.0a0,!=4.0.0a1->fsspec[http]<=2025.3.0,>=2023.1.0->datasets) (4.13.2)\n",
      "Requirement already satisfied: idna>=2.0 in /usr/lib/python3/dist-packages (from yarl<2.0,>=1.17.0->aiohttp!=4.0.0a0,!=4.0.0a1->fsspec[http]<=2025.3.0,>=2023.1.0->datasets) (3.3)\n",
      "Requirement already satisfied: hf-xet<2.0.0,>=1.1.3 in /home/anup/.local/lib/python3.10/site-packages (from huggingface-hub>=0.24.0->datasets) (1.1.5)\n",
      "Requirement already satisfied: charset-normalizer<4,>=2 in /home/anup/.local/lib/python3.10/site-packages (from requests>=2.32.2->datasets) (3.4.2)\n",
      "Requirement already satisfied: urllib3<3,>=1.21.1 in /usr/lib/python3/dist-packages (from requests>=2.32.2->datasets) (1.26.5)\n",
      "Requirement already satisfied: certifi>=2017.4.17 in /usr/lib/python3/dist-packages (from requests>=2.32.2->datasets) (2020.6.20)\n",
      "Requirement already satisfied: wrapt in /usr/lib/python3/dist-packages (from smart-open>=1.8.1->gensim) (1.13.3)\n",
      "Requirement already satisfied: python-dateutil>=2.8.2 in /home/anup/.local/lib/python3.10/site-packages (from pandas->datasets) (2.9.0.post0)\n",
      "Requirement already satisfied: pytz>=2020.1 in /usr/lib/python3/dist-packages (from pandas->datasets) (2022.1)\n",
      "Requirement already satisfied: tzdata>=2022.7 in /home/anup/.local/lib/python3.10/site-packages (from pandas->datasets) (2025.2)\n",
      "Requirement already satisfied: six>=1.5 in /usr/lib/python3/dist-packages (from python-dateutil>=2.8.2->pandas->datasets) (1.16.0)\n",
      "\n",
      "\u001b[1m[\u001b[0m\u001b[34;49mnotice\u001b[0m\u001b[1;39;49m]\u001b[0m\u001b[39;49m A new release of pip is available: \u001b[0m\u001b[31;49m25.1.1\u001b[0m\u001b[39;49m -> \u001b[0m\u001b[32;49m25.2\u001b[0m\n",
      "\u001b[1m[\u001b[0m\u001b[34;49mnotice\u001b[0m\u001b[1;39;49m]\u001b[0m\u001b[39;49m To update, run: \u001b[0m\u001b[32;49mpython3 -m pip install --upgrade pip\u001b[0m\n",
      "Note: you may need to restart the kernel to use updated packages.\n"
     ]
    }
   ],
   "source": [
    "pip install datasets nltk gensim"
   ]
  },
  {
   "cell_type": "code",
   "execution_count": 3,
   "id": "ebfbe771-12df-471b-b951-f93c20991a33",
   "metadata": {},
   "outputs": [
    {
     "name": "stderr",
     "output_type": "stream",
     "text": [
      "[nltk_data] Downloading package punkt to /home/anup/nltk_data...\n",
      "[nltk_data]   Package punkt is already up-to-date!\n",
      "[nltk_data] Downloading package punkt_tab to /home/anup/nltk_data...\n",
      "[nltk_data]   Package punkt_tab is already up-to-date!\n",
      "[nltk_data] Downloading package stopwords to /home/anup/nltk_data...\n",
      "[nltk_data]   Package stopwords is already up-to-date!\n",
      "[nltk_data] Downloading package wordnet to /home/anup/nltk_data...\n",
      "[nltk_data]   Package wordnet is already up-to-date!\n",
      "[nltk_data] Downloading package averaged_perceptron_tagger_eng to\n",
      "[nltk_data]     /home/anup/nltk_data...\n",
      "[nltk_data]   Package averaged_perceptron_tagger_eng is already up-to-\n",
      "[nltk_data]       date!\n"
     ]
    },
    {
     "data": {
      "text/plain": [
       "True"
      ]
     },
     "execution_count": 3,
     "metadata": {},
     "output_type": "execute_result"
    }
   ],
   "source": [
    "from gensim.models import Word2Vec\n",
    "from datasets import load_dataset\n",
    "import nltk\n",
    "from nltk.tokenize import word_tokenize, sent_tokenize\n",
    "from nltk.corpus import stopwords\n",
    "from nltk.stem import *\n",
    "import string \n",
    "\n",
    "nltk.download('punkt')  # Run this once\n",
    "nltk.download('punkt_tab')\n",
    "nltk.download('stopwords')\n",
    "nltk.download('wordnet')\n",
    "nltk.download('averaged_perceptron_tagger_eng')\n",
    "\n",
    "\n"
   ]
  },
  {
   "cell_type": "code",
   "execution_count": 4,
   "id": "7210844a-3ba7-416e-bd89-93402da2fb63",
   "metadata": {},
   "outputs": [
    {
     "name": "stdout",
     "output_type": "stream",
     "text": [
      "DatasetDict({\n",
      "    train: Dataset({\n",
      "        features: ['personality', 'utterances'],\n",
      "        num_rows: 17878\n",
      "    })\n",
      "    validation: Dataset({\n",
      "        features: ['personality', 'utterances'],\n",
      "        num_rows: 1000\n",
      "    })\n",
      "})\n",
      "List(Value('string'))\n"
     ]
    }
   ],
   "source": [
    "from datasets import load_dataset\n",
    "\n",
    "ds = load_dataset(\"AlekseyKorshuk/persona-chat\")\n",
    "print(ds)\n",
    "print(ds[\"train\"].features['personality'])\n"
   ]
  },
  {
   "cell_type": "code",
   "execution_count": 5,
   "id": "0289ece7-a0dc-40b6-bcc2-0d12cea1da2c",
   "metadata": {},
   "outputs": [],
   "source": [
    "def extract_all_histories(dataset_split):\n",
    "    all_histories = []\n",
    "    for example in dataset_split:\n",
    "        for utter in example[\"utterances\"]:\n",
    "            all_histories.extend(utter[\"history\"])\n",
    "    return all_histories"
   ]
  },
  {
   "cell_type": "code",
   "execution_count": 6,
   "id": "2a0e2d32-6638-48aa-9c75-4e97fe1dd2e8",
   "metadata": {},
   "outputs": [],
   "source": [
    "train_histories = extract_all_histories(ds[\"train\"])"
   ]
  },
  {
   "cell_type": "code",
   "execution_count": 7,
   "id": "ac7e9439-fce6-457d-b383-d889483a763a",
   "metadata": {},
   "outputs": [],
   "source": [
    "tokenized_sentence  = [sent_tokenize(sentence) for sentence in train_histories]"
   ]
  },
  {
   "cell_type": "code",
   "execution_count": 8,
   "id": "90166cec-33b2-4066-819b-26eedadf4931",
   "metadata": {},
   "outputs": [],
   "source": [
    "tokenized_words  = [word_tokenize(word) for word in train_histories]"
   ]
  },
  {
   "cell_type": "code",
   "execution_count": 9,
   "id": "187b7380-9cbd-46b2-bd5a-c8a145303d15",
   "metadata": {},
   "outputs": [
    {
     "name": "stdout",
     "output_type": "stream",
     "text": [
      "Sample 1: ['hi , how are you doing ?', \"i'm getting ready to do some cheetah chasing to stay in shape .\"]\n",
      "Sample 2: ['hi , how are you doing ?', \"i'm getting ready to do some cheetah chasing to stay in shape .\"]\n",
      "Sample 3: ['you must be very fast .', 'hunting is one of my favorite hobbies .']\n",
      "Sample 4: ['i am !', 'for my hobby i like to do canning or some whittling .']\n",
      "Sample 5: ['hi , how are you doing ?', \"i'm getting ready to do some cheetah chasing to stay in shape .\"]\n",
      " \n",
      " \n",
      " \n",
      "Sample 1: ['hi', ',', 'how', 'are', 'you', 'doing', '?', 'i', \"'m\", 'getting', 'ready', 'to', 'do', 'some', 'cheetah', 'chasing', 'to', 'stay', 'in', 'shape', '.']\n",
      "Sample 2: ['hi', ',', 'how', 'are', 'you', 'doing', '?', 'i', \"'m\", 'getting', 'ready', 'to', 'do', 'some', 'cheetah', 'chasing', 'to', 'stay', 'in', 'shape', '.']\n",
      "Sample 3: ['you', 'must', 'be', 'very', 'fast', '.', 'hunting', 'is', 'one', 'of', 'my', 'favorite', 'hobbies', '.']\n",
      "Sample 4: ['i', 'am', '!', 'for', 'my', 'hobby', 'i', 'like', 'to', 'do', 'canning', 'or', 'some', 'whittling', '.']\n",
      "Sample 5: ['hi', ',', 'how', 'are', 'you', 'doing', '?', 'i', \"'m\", 'getting', 'ready', 'to', 'do', 'some', 'cheetah', 'chasing', 'to', 'stay', 'in', 'shape', '.']\n"
     ]
    }
   ],
   "source": [
    "for i, item in enumerate(tokenized_sentence[:5]):\n",
    "    print(f\"Sample {i+1}:\", item)\n",
    "\n",
    "print(\" \")\n",
    "print(\" \")\n",
    "print(\" \")\n",
    "\n",
    "for i, item in enumerate(tokenized_words[:5]):\n",
    "    print(f\"Sample {i+1}:\", item)"
   ]
  },
  {
   "cell_type": "code",
   "execution_count": 10,
   "id": "999f0575-6971-4a02-970c-7592a340373b",
   "metadata": {},
   "outputs": [],
   "source": [
    "# lower words\n",
    "tokenized_words_lower = [[w.lower() for w in sentence] for sentence in tokenized_words]"
   ]
  },
  {
   "cell_type": "code",
   "execution_count": 11,
   "id": "732bd456-d432-4f55-b7e3-b90cccc62696",
   "metadata": {},
   "outputs": [],
   "source": [
    "stemmer = PorterStemmer()\n",
    "tokenized_words_lower_stemmer = [[stemmer.stem(w)  for w in sentence] for sentence in tokenized_words]"
   ]
  },
  {
   "cell_type": "code",
   "execution_count": 12,
   "id": "4c80a5cc-efcb-4e99-a6b3-cc3d7f1016a9",
   "metadata": {},
   "outputs": [],
   "source": [
    "# For lemmatization:\n",
    "lemmatizer = WordNetLemmatizer()\n",
    "tokenized_words_lower_lemmatizer_stemmer = [[lemmatizer.lemmatize(w) for w in sentence] for sentence in tokenized_words_lower_stemmer]"
   ]
  },
  {
   "cell_type": "code",
   "execution_count": 13,
   "id": "917b7128-0ca1-4cd6-83ea-e78241f276d7",
   "metadata": {},
   "outputs": [
    {
     "name": "stdout",
     "output_type": "stream",
     "text": [
      "Sample 1: ['hi', ',', 'how', 'are', 'you', 'do', '?', 'i', \"'m\", 'get', 'readi', 'to', 'do', 'some', 'cheetah', 'chase', 'to', 'stay', 'in', 'shape', '.']\n",
      "Sample 2: ['hi', ',', 'how', 'are', 'you', 'do', '?', 'i', \"'m\", 'get', 'readi', 'to', 'do', 'some', 'cheetah', 'chase', 'to', 'stay', 'in', 'shape', '.']\n",
      "Sample 3: ['you', 'must', 'be', 'veri', 'fast', '.', 'hunt', 'is', 'one', 'of', 'my', 'favorit', 'hobbi', '.']\n",
      "Sample 4: ['i', 'am', '!', 'for', 'my', 'hobbi', 'i', 'like', 'to', 'do', 'canning', 'or', 'some', 'whittl', '.']\n",
      "Sample 5: ['hi', ',', 'how', 'are', 'you', 'do', '?', 'i', \"'m\", 'get', 'readi', 'to', 'do', 'some', 'cheetah', 'chase', 'to', 'stay', 'in', 'shape', '.']\n"
     ]
    }
   ],
   "source": [
    "for i, item in enumerate(tokenized_words_lower_lemmatizer_stemmer[:5]):\n",
    "    print(f\"Sample {i+1}:\", item)"
   ]
  },
  {
   "cell_type": "code",
   "execution_count": 14,
   "id": "c80580d7-7a7a-4eef-ad97-0619f4c9a5bd",
   "metadata": {},
   "outputs": [
    {
     "name": "stdout",
     "output_type": "stream",
     "text": [
      "[ 1.2107232  -3.607172    1.0661174  -0.08751214 -0.8389529   0.367806\n",
      " -0.18400753  2.4274025   0.6920671   1.1610131   2.4241703  -3.1995413\n",
      "  1.3808539   1.020024   -1.9182764  -0.4996593   0.5847356  -0.4908765\n",
      "  0.35285467 -2.3971896   0.8542835   1.6707892   0.7011564   0.6070612\n",
      " -0.58686334 -0.7075884   2.0077794  -1.5175041  -1.1384468  -1.3904388\n",
      " -1.6914694  -2.4205363   1.6626168  -1.5998287  -2.8915591   0.8736266\n",
      "  1.0413738  -1.9595923  -1.5055306  -0.5176391  -0.29211646  4.2835736\n",
      "  0.7346189   0.51667714  1.1473112   2.9860213   0.51474607 -2.3432906\n",
      "  2.2465904   3.3623705   0.63984114  1.1212603   1.213412   -1.0586007\n",
      " -2.3045256  -2.4002397   1.8166676  -0.2989536  -0.98663515  3.996627\n",
      " -0.31831414  1.0286386   4.407935   -0.57623434 -1.4735917   2.598105\n",
      " -1.5411477  -1.0135547   0.5652435  -0.9366018  -0.5521816   0.04693182\n",
      "  2.6247578   0.30196375  0.6641301   1.0983403   1.270749    1.8840872\n",
      "  0.48988065 -0.25848594  2.343732   -0.51414216 -1.196941   -3.1912742\n",
      " -2.8068814  -0.45540297  1.2548568   1.2774777  -1.6283437   1.3371814\n",
      " -2.4051626  -0.3240495   0.7325992   0.61049145  0.03395061  0.12361942\n",
      " -3.0575328  -1.1545863  -2.8861902  -0.02722709]\n",
      "Vector size: 100\n"
     ]
    }
   ],
   "source": [
    "# tokenized_words example (list of token lists)\n",
    "tokenized_data = tokenized_words_lower_lemmatizer_stemmer\n",
    "# Train Word2Vec model\n",
    "model = Word2Vec(sentences=tokenized_data, vector_size=100, window=5, min_count=1, workers=4)\n",
    "# Check the vector for a word\n",
    "word_vector = model.wv['hello']  # example word\n",
    "print(word_vector)\n",
    "print(\"Vector size:\", len(word_vector))"
   ]
  },
  {
   "cell_type": "code",
   "execution_count": 15,
   "id": "4151546d-0d87-4025-92a1-073f236c81bf",
   "metadata": {},
   "outputs": [],
   "source": [
    "# save the models\n",
    "model.save(\"word2vec.model\")\n",
    "# Save only the word vectors\n",
    "model.wv.save(\"word2vec.wordvectors\")\n",
    "\n",
    "# from gensim.models import Word2Vec\n",
    "\n",
    "# # Load the saved model from disk\n",
    "# model = Word2Vec.load(\"word2vec.model\")\n",
    "\n",
    "# from gensim.models import KeyedVectors\n",
    "\n",
    "# # Load only the word vectors\n",
    "# wv = KeyedVectors.load(\"word2vec.wordvectors\", mmap='r')"
   ]
  }
 ],
 "metadata": {
  "kernelspec": {
   "display_name": "Python 3 (ipykernel)",
   "language": "python",
   "name": "python3"
  },
  "language_info": {
   "codemirror_mode": {
    "name": "ipython",
    "version": 3
   },
   "file_extension": ".py",
   "mimetype": "text/x-python",
   "name": "python",
   "nbconvert_exporter": "python",
   "pygments_lexer": "ipython3",
   "version": "3.10.12"
  }
 },
 "nbformat": 4,
 "nbformat_minor": 5
}
